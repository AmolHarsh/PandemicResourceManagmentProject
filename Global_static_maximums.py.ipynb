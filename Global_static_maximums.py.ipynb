{
 "cells": [
  {
   "cell_type": "code",
   "execution_count": null,
   "id": "f73d8c75",
   "metadata": {},
   "outputs": [],
   "source": [
    "\n",
    "from Super_class_for_normalization import Super_Normalization as SN\n",
    "import pandas as pd\n",
    "import matplotlib.pyplot as plt\n",
    "\n",
    "\n",
    "class Global_Static(SN):\n",
    "    # Initiailizig super class and this class\n",
    "    # also assigning a catagory to each instant. Such as 'new_cases'\n",
    "    def __init__(self):\n",
    "        SN.__init__(self, catagory)\n",
    "        self.Dataframe_with_countries_as_column = pd.DataFrame()\n",
    "        self.Dataframe_dictionary = SN.get_final_df_Dictionary(self)[self.catagory]\n",
    "        \n",
    "        self.catagory = catagory\n",
    "        self.Dataframe_with_countries_as_column = Super_Normalization.get_final_df_Dictionary(self)[\n",
    "            self.catagory]\n",
    "\n",
    "    # Functoin divides each data point by the global maximum\n",
    "    # uses the applymap method which acts on each data point in the data set\n",
    "\n",
    "    def Divide_by_global_max(self, catagory=\"new_cases\"):\n",
    "        # Creating a deep copy because we dont want changes to reflect in the original dataframe\n",
    "        # Assigning cataogry to Dataframe_with_countries_as_column\n",
    "        self.Dataframe_with_countries_as_column = self.Dataframe_dictionary[catagory].copy(\n",
    "            deep=True)\n",
    "        print(self.Dataframe_with_countries_as_column)\n",
    "        global_max = self.Dataframe_with_countries_as_column.max().max()\n",
    "        self.Dataframe_with_countries_as_column = self.Dataframe_with_countries_as_column.applymap(\n",
    "            lambda x: x/global_max)\n",
    "        print(self.Dataframe_with_countries_as_column)\n",
    "\n",
    "    # Function to be made much better in futrue\n",
    "    # Function plots the new cases from specified country normalized to the global maximum\n",
    "    def plot_data_frame(self, path_to_save=\"\", Countries=None, name_on_saving=\"\"):\n",
    "        super().plot_data_frame(\n",
    "            DathFrame_to_be_plotted=self.Dataframe_with_countries_as_column, countries=Countries, path_to_save=path_to_save, name_on_saving=name_on_saving)\n",
    "\n",
    "\n"
   ]
  }
 ],
 "metadata": {
  "kernelspec": {
   "display_name": "Python 3 (ipykernel)",
   "language": "python",
   "name": "python3"
  },
  "language_info": {
   "codemirror_mode": {
    "name": "ipython",
    "version": 3
   },
   "file_extension": ".py",
   "mimetype": "text/x-python",
   "name": "python",
   "nbconvert_exporter": "python",
   "pygments_lexer": "ipython3",
   "version": "3.9.7"
  }
 },
 "nbformat": 4,
 "nbformat_minor": 5
}
